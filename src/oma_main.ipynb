{
  "cells": [
    {
      "cell_type": "markdown",
      "metadata": {
        "id": "jEp2a_jf6H2s"
      },
      "source": [
        "# Imports"
      ]
    },
    {
      "cell_type": "code",
      "execution_count": 2,
      "metadata": {
        "colab": {
          "base_uri": "https://localhost:8080/",
          "height": 413
        },
        "id": "IYmDIC2s6BxL",
        "outputId": "0a09adfe-0d93-48b3-dc6b-a3f1459a7e60"
      },
      "outputs": [],
      "source": [
        "# ROS\n",
        "import sys\n",
        "import copy\n",
        "import rospy\n",
        "import moveit_commander\n",
        "import moveit_msgs.msg\n",
        "import geometry_msgs.msg\n",
        "import open_manipulator_msgs.msg\n",
        "\n",
        "from std_msgs.msg import String\n",
        "from moveit_commander.conversions import pose_to_list\n",
        "from open_manipulator_msgs.srv import *\n",
        "\n",
        "# Camera \n",
        "import pyrealsense2 as rs\n",
        "\n",
        "# General\n",
        "import time\n",
        "import os\n",
        "import glob\n",
        "import matplotlib.pyplot as plt\n",
        "from math import pi\n",
        "from art import *\n",
        "\n",
        "# Image processing\n",
        "import numpy as np\n",
        "import cv2\n",
        "from skimage import data, color\n",
        "from skimage.transform import rescale, resize, downscale_local_mean\n",
        "import PIL\n",
        "from PIL import Image\n",
        "\n",
        "# Neural network\n",
        "import torch\n",
        "import torch.nn as nn\n",
        "import torch.nn.functional as F\n"
      ]
    },
    {
      "cell_type": "markdown",
      "metadata": {
        "id": "wUXiIri46Mc6"
      },
      "source": [
        "# First neural network (is there a digit on the picture taken?)"
      ]
    },
    {
      "cell_type": "code",
      "execution_count": 3,
      "metadata": {
        "colab": {
          "base_uri": "https://localhost:8080/",
          "height": 274
        },
        "id": "2_Qt2r5p6UJq",
        "outputId": "d2cdd896-4e12-4c11-8117-fe2878e984d1"
      },
      "outputs": [],
      "source": [
        "class MLPDecider(nn.Module):\n",
        "    \n",
        "  def __init__(self):\n",
        "    super(MLPDecider, self).__init__()\n",
        "    self.lin1=nn.Linear(28*28, 300)\n",
        "    self.lin2=nn.Linear(300, 80)\n",
        "    self.lin3=nn.Linear(80, 10)\n",
        "    self.lin4=nn.Linear(10, 2)\n",
        "    self.dropout = nn.Dropout(0.3)\n",
        "    self.batchn=nn.BatchNorm2d(1)\n",
        "        \n",
        "  def forward(self, x):\n",
        "        \n",
        "    temp=x\n",
        "    temp=self.batchn(temp)\n",
        "    temp=self.dropout(temp)\n",
        "    temp=temp.view((temp.shape[0], 28*28))\n",
        "    temp=self.lin1(temp)\n",
        "    temp=F.relu(temp)\n",
        "    temp=self.lin2(temp)\n",
        "    temp=F.relu(temp)\n",
        "    temp=self.lin3(temp)\n",
        "    temp=F.relu(temp)\n",
        "    temp=self.lin4(temp)\n",
        "    out=temp\n",
        "       \n",
        "    return out\n",
        "\n",
        "def loadMLP():\n",
        "  net=MLPDecider()\n",
        "  device = torch.device(\"cuda:0\" if torch.cuda.is_available() else \"cpu\")\n",
        "  net.to(device)\n",
        "  num_params = sum(p.numel() for p in net.parameters() if p.requires_grad)\n",
        "  NetData=torch.load('MLPDeciderData.pth', map_location=torch.device('cpu')) #the file is in the public google drive, Code section. If you dont finf it ask Richard, he has it on his notebook as well\n",
        "  net.load_state_dict(NetData)\n",
        "  net.eval()\n",
        "  return net"
      ]
    },
    {
      "cell_type": "code",
      "execution_count": 4,
      "metadata": {
        "id": "sZrcmRq2LBKO"
      },
      "outputs": [],
      "source": [
        "def DigitOrNot(image):\n",
        "  '''input: a 28*28 torch tensor'''\n",
        "  image=image.view(1, 1, 28, 28) #nn needs this \n",
        "  #print(\"torch tensor\", image)\n",
        "  net=loadMLP()\n",
        "  out=net.forward(image)\n",
        "  pred=torch.argmax(out)\n",
        "  if pred==0:\n",
        "    print(\"No number detected! Insert Object!\")\n",
        "    return False\n",
        "  elif pred==1:\n",
        "    return True"
      ]
    },
    {
      "cell_type": "markdown",
      "metadata": {
        "id": "so34FcDj6N-X"
      },
      "source": [
        "# Convolutional Neural Network (digit recognition)"
      ]
    },
    {
      "cell_type": "code",
      "execution_count": 5,
      "metadata": {
        "id": "bk8E6e_u6Uh2"
      },
      "outputs": [],
      "source": [
        "# Define the neuronal network\n",
        "class CNN(nn.Module):\n",
        "  def __init__(self):\n",
        "    super(CNN, self).__init__()\n",
        "    #784\n",
        "    self.conv1 = nn.Conv2d(in_channels=1, out_channels=16, kernel_size=5, stride=1, padding=2)                  \n",
        "    self.pool = nn.MaxPool2d(kernel_size=2)\n",
        "    self.conv2 = nn.Conv2d(16, 32, 5, 1, 2)\n",
        "    self.fc1 = nn.Linear(32 * 7 * 7, 400) \n",
        "    self.fc2 = nn.Linear(400, 200)\n",
        "    self.fc3 = nn.Linear(200, 10)\n",
        "    self.drop = nn.Dropout(p=0.5)\n",
        "    self.batchn = nn.BatchNorm2d(32)\n",
        "\n",
        "  def forward(self, x):\n",
        "    out = self.pool(F.relu(self.conv1(x)))\n",
        "    out = self.pool(F.relu(self.conv2(out)))\n",
        "    out = self.batchn(out)\n",
        "    out = self.drop(out)\n",
        "    out = out.view(-1,32*7*7)\n",
        "    out = F.relu(self.fc1(out))\n",
        "    out = F.relu(self.fc2(out))\n",
        "    out = self.fc3(out)   \n",
        "  \n",
        "    return out\n",
        "\n",
        "#load the trained network. The command: Netdata=torch.load('MNISTCNNcheckpoint.pth', map_location=torch.device('cpu')) \n",
        "#is where you select the file with the data you wanna load. Make sure the file has the name it has in the command and is in the same folder as this program\n",
        "#I uploaded the file I used in this code, it is from the MNIST CNN in the dropbox. I only trained for 3 epochs, feel free to you use you own longer trained one!\n",
        "\n",
        "net = CNN()\n",
        "device = torch.device(\"cuda:0\" if torch.cuda.is_available() else \"cpu\")\n",
        "net.to(device)\n",
        "Netdata=torch.load('CNNMNIST2.pth', map_location=torch.device('cpu'))\n",
        "net.load_state_dict(Netdata)\n",
        "net.eval\n",
        "\n",
        "\n",
        "def runCNN(imageMatrix):\n",
        "  out=net.forward(imageMatrix) #calculating the output\n",
        "  out=torch.argmax(out) #here we check which number the network actually predicted\n",
        "  return int(out)"
      ]
    },
    {
      "cell_type": "markdown",
      "metadata": {
        "id": "Weq6i4Uc6Pbo"
      },
      "source": [
        "# Detect with camera\n"
      ]
    },
    {
      "cell_type": "code",
      "execution_count": 6,
      "metadata": {
        "id": "8c6VEgVa75wJ"
      },
      "outputs": [],
      "source": [
        "def captureImage():\n",
        "\n",
        "    pipeline = rs.pipeline()\n",
        "    config = rs.config()\n",
        "\n",
        "    config.enable_stream(rs.stream.depth, 1280, 720, rs.format.z16, 6)\n",
        "    config.enable_stream(rs.stream.color, 1280, 720, rs.format.bgr8, 6)\n",
        "\n",
        "    profile = pipeline.start(config)\n",
        "    depth_sensor = profile.get_device().first_depth_sensor()\n",
        "    depth_scale = depth_sensor.get_depth_scale()\n",
        "\n",
        "    # We will be removing the background of objects more than\n",
        "    #  clipping_distance_in_meters meters away\n",
        "    clipping_distance_in_meters = 1.5 \n",
        "    clipping_distance = clipping_distance_in_meters / depth_scale\n",
        "\n",
        "    align_to = rs.stream.color\n",
        "    align = rs.align(align_to)\n",
        "\n",
        "    frames = pipeline.wait_for_frames()\n",
        "\n",
        "    aligned_frames = align.process(frames)\n",
        "    aligned_depth_frame = aligned_frames.get_depth_frame()\n",
        "    color_frame = aligned_frames.get_color_frame()\n",
        "\n",
        "    color_image = np.asanyarray(color_frame.get_data())\n",
        "\n",
        "    \"\"\"\n",
        "        Other functionalities that we do not use (3D images...)\n",
        "        \n",
        "    depth_image = np.asanyarray(aligned_depth_frame.get_data())\n",
        "    # Remove background - Set pixels further than clipping_distance to grey\n",
        "    grey_color = 153\n",
        "    depth_image_3d = np.dstack((depth_image,depth_image,depth_image)) #depth image is 1 channel, color is 3 channels\n",
        "    bg_removed = np.where((depth_image_3d > clipping_distance) | (depth_image_3d <= 0), grey_color, color_image)\n",
        "    # Render images\n",
        "    depth_colormap = cv2.applyColorMap(cv2.convertScaleAbs(depth_image, alpha=0.03), cv2.COLORMAP_JET)\n",
        "    images = np.hstack((bg_removed, depth_colormap))\n",
        "    cv2.namedWindow('Align Example', cv2.WINDOW_AUTOSIZE)\n",
        "    \"\"\"\n",
        "    # Filename \n",
        "    imageName1 = './pics/realsense' + str(time.strftime(\"%Y_%m_%d_%H_%M_%S\")) +  '_Color.jpg'\n",
        "\n",
        "    # Saving the image \n",
        "    cv2.imwrite(imageName1, color_image) \n",
        "\n",
        "    key = cv2.waitKey(1)\n",
        "    # Press esc or 'q' to close the image window\n",
        "    cv2.destroyAllWindows()\n",
        "\n",
        "    pipeline.stop()\n",
        "    return color_image"
      ]
    },
    {
      "cell_type": "markdown",
      "metadata": {
        "id": "kmrFVr83MjGJ"
      },
      "source": [
        "## Image processing"
      ]
    },
    {
      "cell_type": "code",
      "execution_count": 7,
      "metadata": {
        "id": "KvFHXjLhMcGM"
      },
      "outputs": [],
      "source": [
        "def image_processing(image):\n",
        "\n",
        "    cv2.resize(image, None, fx=0.5, fy=0.5, interpolation=cv2.INTER_AREA)\n",
        "    image = cv2.medianBlur(image,5)\n",
        "    grayImage = cv2.cvtColor(image, cv2.COLOR_BGR2GRAY)\n",
        "    image=grayImage\n",
        "\n",
        "    \"\"\"\n",
        "    # This part only is for visualization purpose, thresholds comparison\n",
        "    # We ended up only using the grayscale original image\n",
        "    ret,th1 = cv2.threshold(image,127,255,cv2.THRESH_BINARY)\n",
        "    th2 = cv2.adaptiveThreshold(image,255,cv2.ADAPTIVE_THRESH_MEAN_C,\\\n",
        "                cv2.THRESH_BINARY,11,2)\n",
        "\n",
        "    th3 = cv2.adaptiveThreshold(image,255,cv2.ADAPTIVE_THRESH_GAUSSIAN_C,\\\n",
        "                cv2.THRESH_BINARY,11,2)\n",
        "    titles = ['Original Image', 'Global Thresholding (v = 127)',\n",
        "                'Adaptive Mean Thresholding', 'Adaptive Gaussian Thresholding']\n",
        "    images = [image, th1, th2, th3]\n",
        "    for i in range(4):\n",
        "        plt.subplot(2,2,i+1),plt.imshow(images[i],'gray')\n",
        "        plt.title(titles[i])\n",
        "        plt.xticks([]),plt.yticks([])\n",
        "    \"\"\"\n",
        "    \n",
        "    print(\"Image shape: \", image.shape)\n",
        "    \n",
        "    # Inverting the greyscale image\n",
        "    image = cv2.bitwise_not(image)\n",
        "\n",
        "    # Show the entire processed picture\n",
        "    '''print(\"Processed picture: \")\n",
        "    plt.figure(figsize=(16,8))\n",
        "    plt.axis('off')\n",
        "    plt.imshow(image)'''\n",
        "\n",
        "    #take the part of the picture which contains the number (it just takes the hard coded coordinates regardless of the picture, cause most of the time the number is gonna be in the middle)\n",
        "    tempIM=np.asarray(image)\n",
        "    print(tempIM.shape)\n",
        "    woIM=tempIM[200:500,680:980] #you might have to change these numbers for getting the number in. It is important that their distance is always 112. \n",
        "\n",
        "    #downscale the image\n",
        "    woIMre=cv2.resize(src=woIM, dsize=(28,28))\n",
        "    print(woIMre.shape)\n",
        "\n",
        "    # Show the selected part of the downscaled image\n",
        "    '''print(\"Selected part (downscaled image: \")\n",
        "    plt.figure(figsize=(50,8))\n",
        "    plt.axis('off')\n",
        "    plt.imshow(woIMre)\n",
        "    save=woIMre'''\n",
        "\n",
        "    '''Wz use 255 as the norm because the tensors of the pictures my camera takes contain numbers from 0 to 255, but the CNN only works well for\n",
        "    matrixes with numbers im between 0 and 1. so you might need to change this depending on you camera, just make sure the matrix immediently before you\n",
        "    put into the networks does not contain numbers higher than one and no 'nan' values'''\n",
        "    norm=255\n",
        "    woIMre=woIMre/norm\n",
        "    \n",
        "    # Zeroing the background to remove artifacts\n",
        "    woIMre=np.reshape(woIMre, [28, 28])\n",
        "    for i in range(woIMre[0].size):\n",
        "        for j in range(woIMre[0].size):\n",
        "            if i<=14:\n",
        "                if woIMre[i][j]<=0.5:\n",
        "                    woIMre[i][j]=0\n",
        "            else:\n",
        "                if woIMre[i][j]<=0.5:\n",
        "                    woIMre[i][j]=0\n",
        "    plt.figure(figsize=(50,8))\n",
        "    plt.axis('off')\n",
        "    plt.imshow(woIMre)\n",
        "    plt.show()\n",
        "\n",
        "    # Reshaping the input data so the network can process it.\n",
        "    woIMre=np.reshape(woIMre, [1, 1, 28, 28])\n",
        "    # Transforming the input into a pytorch datatype so the network can process it\n",
        "    woIMre=torch.tensor(woIMre)\n",
        "    woIMre=woIMre.float() # Network wants float, so we give it float\n",
        "    return woIMre"
      ]
    },
    {
      "cell_type": "code",
      "execution_count": 8,
      "metadata": {
        "id": "8JzJT5ZK6VF-"
      },
      "outputs": [],
      "source": [
        "def detectNumber():\n",
        "    \n",
        "    numberInImage = False\n",
        "    while not numberInImage:\n",
        "        image_matrix = image_processing(captureImage()) # Capture and process image to matrix\n",
        "        numberInImage =DigitOrNot(image_matrix) # Use perceptron to scan for number\n",
        "        time.sleep(2)\n",
        "        \n",
        "    number = runCNN(image_matrix) # Use CNN to classify number on image\n",
        "    #print(\"There is an object and it seems to be labelled: \", number)\n",
        "    time.sleep(1)\n",
        "    print(\"FOUND NUMBER: \")\n",
        "    tprint(str(number))\n",
        "        \n",
        "    return numberInImage, number\n"
      ]
    },
    {
      "cell_type": "markdown",
      "metadata": {
        "id": "kJoz3iBj6Jbb"
      },
      "source": [
        "# Moveit moving code"
      ]
    },
    {
      "cell_type": "code",
      "execution_count": 9,
      "metadata": {
        "id": "19Y16v9u-_ng"
      },
      "outputs": [
        {
          "name": "stdout",
          "output_type": "stream",
          "text": [
            "[0, -0.4, 0.1, 0.8]\n"
          ]
        }
      ],
      "source": [
        "home = [0, -1.052, 0.354, 0.703]\n",
        "init = [0, 0, 0, 0]\n",
        "photo_pos = [0, 0, -0.8, 2] #To change for the photot to be angled\n",
        "grab_pos2 = [0, 0.4, .1, .8]\n",
        "\n",
        "box1 = [-1.5, 0.293, -0.4, 1.5]\n",
        "box2 = [1.5, 0.293, -0.4, 1.5]\n",
        "\n",
        "# Auxilliary function used to avoid the arm to hit the box from the side\n",
        "def over_position(position):\n",
        "  return [position[0], -.4, position[2], position[3]]\n",
        "print(over_position(grab_pos2))"
      ]
    },
    {
      "cell_type": "code",
      "execution_count": 10,
      "metadata": {
        "id": "DdYurZQSRr7b"
      },
      "outputs": [],
      "source": [
        "class MoveGroupPythonInterface(object):\n",
        "    def __init__(self):\n",
        "        super(MoveGroupPythonInterface, self).__init__()\n",
        "        moveit_commander.roscpp_initialize(sys.argv)\n",
        "        rospy.init_node('move_group_python_interface_tutorial', anonymous=True) # Change this name\n",
        "        \n",
        "        # Instantiate a `RobotCommander`_ object. Provides information such as the robot’s kinematic model and the robot’s current joint states\n",
        "        robot = moveit_commander.RobotCommander()\n",
        "        scene = moveit_commander.PlanningSceneInterface()\n",
        "        arm_group = moveit_commander.MoveGroupCommander(\"arm\")\n",
        "        gripper_group = moveit_commander.MoveGroupCommander(\"gripper\")\n",
        "        display_trajectory_publisher = rospy.Publisher('/arm_group/display_planned_path',\n",
        "        moveit_msgs.msg.DisplayTrajectory,\n",
        "        queue_size=20)\n",
        "        gripper_group_variable_values = gripper_group.get_current_joint_values()\n",
        "\n",
        "        planning_frame = arm_group.get_planning_frame()\n",
        "        eef_link = arm_group.get_end_effector_link()\n",
        "        group_names = robot.get_group_names()\n",
        "\n",
        "        verbose = False\n",
        "        if verbose == True : \n",
        "            # Getting Basic Information\n",
        "            print (\"============ Planning frame: %s\" % planning_frame)\n",
        "            print (\"============ End effector link: %s\" % eef_link)\n",
        "            print (\"============ Available Planning Groups:\", robot.get_group_names())\n",
        "            print (\"============ Printing robot state\")\n",
        "            print (robot.get_current_state())\n",
        "\n",
        "        # Misc variables\n",
        "        self.box_name = \"\"\n",
        "        self.robot = robot\n",
        "        self.scene = scene\n",
        "        self.arm_group = arm_group\n",
        "        self.grippper_group = gripper_group\n",
        "        self.display_trajectory_publisher = display_trajectory_publisher\n",
        "        self.gripper_group_variable_values =  gripper_group_variable_values\n",
        "        self.planning_frame = planning_frame\n",
        "        self.eef_link = eef_link\n",
        "        self.group_names = group_names\n",
        "\n",
        "    def move(self, joint_goal):\n",
        "        arm_group = self.arm_group\n",
        "        arm_group.go(joint_goal, wait=True)\n",
        "        # Calling ``stop()`` ensures that there is no residual movement\n",
        "        arm_group.stop()\n",
        "        #time.sleep(0.5)\n",
        "        return 0\n",
        "\n",
        "    def open_gripper(self):\n",
        "        gripper_group = self.grippper_group\n",
        "        gripper_group_variable_values = self. gripper_group_variable_values\n",
        "        #print (\"Opening Gripper...\")\n",
        "        gripper_group_variable_values[0] = -0.009\n",
        "        gripper_group.set_joint_value_target(gripper_group_variable_values)\n",
        "        plan2 = gripper_group.go()\n",
        "        gripper_group.stop()\n",
        "        gripper_group.clear_pose_targets()\n",
        "        #rospy.sleep(0.5)\n",
        "\n",
        "    def close_gripper(self):\n",
        "        gripper_group = self.grippper_group\n",
        "        gripper_group_variable_values = self. gripper_group_variable_values\n",
        "        #print (\"Closing Gripper...\")\n",
        "        gripper_group_variable_values[0] =  -00.004\n",
        "        gripper_group.set_joint_value_target(gripper_group_variable_values)\n",
        "        plan2 = gripper_group.go()\n",
        "        gripper_group.stop()\n",
        "        gripper_group.clear_pose_targets()\n",
        "        #rospy.sleep(0.5)\n",
        "\n"
      ]
    },
    {
      "cell_type": "code",
      "execution_count": 11,
      "metadata": {
        "id": "uyuu77a462cL"
      },
      "outputs": [],
      "source": [
        "def reposition(number, MoveGroupInterface):\n",
        "  \n",
        "  MoveGroupInterface.move(over_position(grab_pos2))\n",
        "\n",
        "  MoveGroupInterface.move(grab_pos2)\n",
        "  MoveGroupInterface.close_gripper()\n",
        "\n",
        "  if number%2 == 0:\n",
        "    drop_pos = box1\n",
        "  else:\n",
        "    drop_pos = box2\n",
        "  over_drop = over_position(drop_pos)\n",
        "\n",
        "  MoveGroupInterface.move(home) \n",
        "  MoveGroupInterface.move(drop_pos)\n",
        "  MoveGroupInterface.open_gripper()\n",
        "  MoveGroupInterface.move(over_drop)\n",
        "  MoveGroupInterface.move(home)"
      ]
    },
    {
      "cell_type": "markdown",
      "metadata": {
        "id": "aomDYbzw8F0A"
      },
      "source": [
        "# Run robot"
      ]
    },
    {
      "cell_type": "code",
      "execution_count": 14,
      "metadata": {
        "id": "0drcjeCG8E5c"
      },
      "outputs": [],
      "source": [
        "def main():\n",
        "  inputNum = 7 #int(input('Input number of boxes to be sorted'))\n",
        "  for i in range(inputNum):\n",
        "    try:\n",
        "      \n",
        "      MoveGroupInterface = MoveGroupPythonInterface()\n",
        "      \n",
        "      MoveGroupInterface.move(photo_pos)\n",
        "      MoveGroupInterface.open_gripper()\n",
        "      numberInImage, number = detectNumber()\n",
        "      \n",
        "      if numberInImage:\n",
        "        reposition(number, MoveGroupInterface)\n",
        "    \n",
        "    except rospy.ROSInterruptException:\n",
        "        return \"ROS interrupt\"\n",
        "    except KeyboardInterrupt:\n",
        "        return \"Keyboard interrupt\""
      ]
    },
    {
      "cell_type": "code",
      "execution_count": 15,
      "metadata": {
        "id": "RjasDXbY3D4p"
      },
      "outputs": [
        {
          "name": "stderr",
          "output_type": "stream",
          "text": [
            "\u001b[33m[ WARN] [1670423631.052398973]: Link end_effector_link has visual geometry but no collision geometry. Collision geometry will be left empty. Fix your URDF file by explicitly specifying collision geometry.\u001b[0m\n"
          ]
        },
        {
          "name": "stdout",
          "output_type": "stream",
          "text": [
            "\u001b[0m[ INFO] [1670423630.934579859]: Loading robot model 'open_manipulator'...\u001b[0m\n",
            "\u001b[0m[ INFO] [1670423630.935501248]: No root/virtual joint specified in SRDF. Assuming fixed joint\u001b[0m\n",
            "\u001b[0m[ INFO] [1670423632.089609752]: Ready to take commands for planning group arm.\u001b[0m\n",
            "\u001b[0m[ INFO] [1670423632.650154621]: Ready to take commands for planning group gripper.\u001b[0m\n",
            "Image shape:  (720, 1280)\n",
            "(720, 1280)\n",
            "(28, 28)\n"
          ]
        },
        {
          "data": {
            "image/png": "[encoded data removed]",
            "text/plain": [
              "<Figure size 5000x800 with 1 Axes>"
            ]
          },
          "metadata": {},
          "output_type": "display_data"
        },
        {
          "name": "stdout",
          "output_type": "stream",
          "text": [
            "No number detected! Insert Object!\n",
            "Image shape:  (720, 1280)\n",
            "(720, 1280)\n",
            "(28, 28)\n"
          ]
        },
        {
          "data": {
            "image/png": "[encoded data removed]",
            "text/plain": [
              "<Figure size 5000x800 with 1 Axes>"
            ]
          },
          "metadata": {},
          "output_type": "display_data"
        },
        {
          "name": "stdout",
          "output_type": "stream",
          "text": [
            "No number detected! Insert Object!\n",
            "Image shape:  (720, 1280)\n",
            "(720, 1280)\n",
            "(28, 28)\n"
          ]
        },
        {
          "data": {
            "image/png": "[encoded data removed]",
            "text/plain": [
              "<Figure size 5000x800 with 1 Axes>"
            ]
          },
          "metadata": {},
          "output_type": "display_data"
        },
        {
          "name": "stdout",
          "output_type": "stream",
          "text": [
            "No number detected! Insert Object!\n",
            "Image shape:  (720, 1280)\n",
            "(720, 1280)\n",
            "(28, 28)\n"
          ]
        },
        {
          "data": {
            "image/png": "[encoded data removed]",
            "text/plain": [
              "<Figure size 5000x800 with 1 Axes>"
            ]
          },
          "metadata": {},
          "output_type": "display_data"
        },
        {
          "name": "stdout",
          "output_type": "stream",
          "text": [
            "No number detected! Insert Object!\n",
            "Image shape:  (720, 1280)\n",
            "(720, 1280)\n",
            "(28, 28)\n"
          ]
        },
        {
          "data": {
            "image/png": "[encoded data removed]",
            "text/plain": [
              "<Figure size 5000x800 with 1 Axes>"
            ]
          },
          "metadata": {},
          "output_type": "display_data"
        },
        {
          "name": "stdout",
          "output_type": "stream",
          "text": [
            "No number detected! Insert Object!\n",
            "Image shape:  (720, 1280)\n",
            "(720, 1280)\n",
            "(28, 28)\n"
          ]
        },
        {
          "data": {
            "image/png": "[encoded data removed]",
            "text/plain": [
              "<Figure size 5000x800 with 1 Axes>"
            ]
          },
          "metadata": {},
          "output_type": "display_data"
        },
        {
          "name": "stdout",
          "output_type": "stream",
          "text": [
            "No number detected! Insert Object!\n",
            "Image shape:  (720, 1280)\n",
            "(720, 1280)\n",
            "(28, 28)\n"
          ]
        },
        {
          "data": {
            "image/png": "[encoded data removed]",
            "text/plain": [
              "<Figure size 5000x800 with 1 Axes>"
            ]
          },
          "metadata": {},
          "output_type": "display_data"
        },
        {
          "name": "stdout",
          "output_type": "stream",
          "text": [
            "No number detected! Insert Object!\n",
            "Image shape:  (720, 1280)\n",
            "(720, 1280)\n",
            "(28, 28)\n"
          ]
        },
        {
          "data": {
            "image/png": "[encoded data removed]",
            "text/plain": [
              "<Figure size 5000x800 with 1 Axes>"
            ]
          },
          "metadata": {},
          "output_type": "display_data"
        },
        {
          "name": "stdout",
          "output_type": "stream",
          "text": [
            "No number detected! Insert Object!\n",
            "Image shape:  (720, 1280)\n",
            "(720, 1280)\n",
            "(28, 28)\n"
          ]
        },
        {
          "data": {
            "image/png": "[encoded data removed]",
            "text/plain": [
              "<Figure size 5000x800 with 1 Axes>"
            ]
          },
          "metadata": {},
          "output_type": "display_data"
        },
        {
          "name": "stdout",
          "output_type": "stream",
          "text": [
            "No number detected! Insert Object!\n",
            "Image shape:  (720, 1280)\n",
            "(720, 1280)\n",
            "(28, 28)\n"
          ]
        },
        {
          "data": {
            "image/png": "[encoded data removed]",
            "text/plain": [
              "<Figure size 5000x800 with 1 Axes>"
            ]
          },
          "metadata": {},
          "output_type": "display_data"
        },
        {
          "name": "stdout",
          "output_type": "stream",
          "text": [
            "No number detected! Insert Object!\n"
          ]
        }
      ],
      "source": [
        "main()"
      ]
    }
  ],
  "metadata": {
    "colab": {
      "collapsed_sections": [
        "jEp2a_jf6H2s",
        "wUXiIri46Mc6",
        "so34FcDj6N-X"
      ],
      "provenance": []
    },
    "kernelspec": {
      "display_name": "Python 3.8.10 64-bit",
      "language": "python",
      "name": "python3"
    },
    "language_info": {
      "codemirror_mode": {
        "name": "ipython",
        "version": 3
      },
      "file_extension": ".py",
      "mimetype": "text/x-python",
      "name": "python",
      "nbconvert_exporter": "python",
      "pygments_lexer": "ipython3",
      "version": "3.8.10"
    },
    "vscode": {
      "interpreter": {
        "hash": "e7370f93d1d0cde622a1f8e1c04877d8463912d04d973331ad4851f04de6915a"
      }
    }
  },
  "nbformat": 4,
  "nbformat_minor": 0
}
